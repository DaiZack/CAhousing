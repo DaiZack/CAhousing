{
  "cells": [
    {
      "cell_type": "markdown",
      "metadata": {
        "id": "view-in-github",
        "colab_type": "text"
      },
      "source": [
        "<a href=\"https://colab.research.google.com/github/DaiZack/CAhousing/blob/master/findDuplicatedAricle.ipynb\" target=\"_parent\"><img src=\"https://colab.research.google.com/assets/colab-badge.svg\" alt=\"Open In Colab\"/></a>"
      ]
    },
    {
      "cell_type": "markdown",
      "source": [
        "# Step 1: load your data"
      ],
      "metadata": {
        "id": "1p_OeVZPWvqp"
      }
    },
    {
      "cell_type": "code",
      "execution_count": null,
      "metadata": {
        "colab": {
          "base_uri": "https://localhost:8080/",
          "height": 250
        },
        "id": "lIYdn1woOS1n",
        "outputId": "b221cc94-8543-4ecd-bf6d-b603726659e2"
      },
      "outputs": [
        {
          "output_type": "execute_result",
          "data": {
            "text/html": [
              "\n",
              "  <div id=\"df-6b92b7e2-fd08-420f-b098-7a9aed5d3597\">\n",
              "    <div class=\"colab-df-container\">\n",
              "      <div>\n",
              "<style scoped>\n",
              "    .dataframe tbody tr th:only-of-type {\n",
              "        vertical-align: middle;\n",
              "    }\n",
              "\n",
              "    .dataframe tbody tr th {\n",
              "        vertical-align: top;\n",
              "    }\n",
              "\n",
              "    .dataframe thead th {\n",
              "        text-align: right;\n",
              "    }\n",
              "</style>\n",
              "<table border=\"1\" class=\"dataframe\">\n",
              "  <thead>\n",
              "    <tr style=\"text-align: right;\">\n",
              "      <th></th>\n",
              "      <th>title</th>\n",
              "      <th>date</th>\n",
              "      <th>author</th>\n",
              "      <th>wordscount</th>\n",
              "      <th>content</th>\n",
              "      <th>Journal</th>\n",
              "    </tr>\n",
              "  </thead>\n",
              "  <tbody>\n",
              "    <tr>\n",
              "      <th>0</th>\n",
              "      <td>MarketWatch: Low Mortgage Rates Will Cost You</td>\n",
              "      <td>2009-02-22</td>\n",
              "      <td>By Amy Hoak</td>\n",
              "      <td>910</td>\n",
              "      <td>Mortgage rates are low, but getting a home loa...</td>\n",
              "      <td>Wall Street Journal</td>\n",
              "    </tr>\n",
              "    <tr>\n",
              "      <th>1</th>\n",
              "      <td>Marketwatch; Low Mortgage Rates Will Cost You</td>\n",
              "      <td>2009-02-22</td>\n",
              "      <td>By Amy Hoak</td>\n",
              "      <td>910</td>\n",
              "      <td>Mortgage rates are low, but getting a home loa...</td>\n",
              "      <td>Wall Street Journal</td>\n",
              "    </tr>\n",
              "    <tr>\n",
              "      <th>2</th>\n",
              "      <td>Green dreams get muddy for car maker --- Norwe...</td>\n",
              "      <td>2009-01-27</td>\n",
              "      <td>By Leila Abboud</td>\n",
              "      <td>1076</td>\n",
              "      <td>In the race to get electric cars to market, th...</td>\n",
              "      <td>Wall Street Journal</td>\n",
              "    </tr>\n",
              "    <tr>\n",
              "      <th>3</th>\n",
              "      <td>Faded Green: A Car Maker's Woes; Start-Up Lure...</td>\n",
              "      <td>2009-01-26</td>\n",
              "      <td>By Leila Abboud</td>\n",
              "      <td>1066</td>\n",
              "      <td>In the race to get electric cars to market, th...</td>\n",
              "      <td>Wall Street Journal</td>\n",
              "    </tr>\n",
              "    <tr>\n",
              "      <th>4</th>\n",
              "      <td>Corporate News: Faded Green: A Car Maker's Woe...</td>\n",
              "      <td>2009-01-26</td>\n",
              "      <td>By Leila Abboud</td>\n",
              "      <td>1084</td>\n",
              "      <td>In the race to get electric cars to market, th...</td>\n",
              "      <td>Wall Street Journal</td>\n",
              "    </tr>\n",
              "  </tbody>\n",
              "</table>\n",
              "</div>\n",
              "      <button class=\"colab-df-convert\" onclick=\"convertToInteractive('df-6b92b7e2-fd08-420f-b098-7a9aed5d3597')\"\n",
              "              title=\"Convert this dataframe to an interactive table.\"\n",
              "              style=\"display:none;\">\n",
              "        \n",
              "  <svg xmlns=\"http://www.w3.org/2000/svg\" height=\"24px\"viewBox=\"0 0 24 24\"\n",
              "       width=\"24px\">\n",
              "    <path d=\"M0 0h24v24H0V0z\" fill=\"none\"/>\n",
              "    <path d=\"M18.56 5.44l.94 2.06.94-2.06 2.06-.94-2.06-.94-.94-2.06-.94 2.06-2.06.94zm-11 1L8.5 8.5l.94-2.06 2.06-.94-2.06-.94L8.5 2.5l-.94 2.06-2.06.94zm10 10l.94 2.06.94-2.06 2.06-.94-2.06-.94-.94-2.06-.94 2.06-2.06.94z\"/><path d=\"M17.41 7.96l-1.37-1.37c-.4-.4-.92-.59-1.43-.59-.52 0-1.04.2-1.43.59L10.3 9.45l-7.72 7.72c-.78.78-.78 2.05 0 2.83L4 21.41c.39.39.9.59 1.41.59.51 0 1.02-.2 1.41-.59l7.78-7.78 2.81-2.81c.8-.78.8-2.07 0-2.86zM5.41 20L4 18.59l7.72-7.72 1.47 1.35L5.41 20z\"/>\n",
              "  </svg>\n",
              "      </button>\n",
              "      \n",
              "  <style>\n",
              "    .colab-df-container {\n",
              "      display:flex;\n",
              "      flex-wrap:wrap;\n",
              "      gap: 12px;\n",
              "    }\n",
              "\n",
              "    .colab-df-convert {\n",
              "      background-color: #E8F0FE;\n",
              "      border: none;\n",
              "      border-radius: 50%;\n",
              "      cursor: pointer;\n",
              "      display: none;\n",
              "      fill: #1967D2;\n",
              "      height: 32px;\n",
              "      padding: 0 0 0 0;\n",
              "      width: 32px;\n",
              "    }\n",
              "\n",
              "    .colab-df-convert:hover {\n",
              "      background-color: #E2EBFA;\n",
              "      box-shadow: 0px 1px 2px rgba(60, 64, 67, 0.3), 0px 1px 3px 1px rgba(60, 64, 67, 0.15);\n",
              "      fill: #174EA6;\n",
              "    }\n",
              "\n",
              "    [theme=dark] .colab-df-convert {\n",
              "      background-color: #3B4455;\n",
              "      fill: #D2E3FC;\n",
              "    }\n",
              "\n",
              "    [theme=dark] .colab-df-convert:hover {\n",
              "      background-color: #434B5C;\n",
              "      box-shadow: 0px 1px 3px 1px rgba(0, 0, 0, 0.15);\n",
              "      filter: drop-shadow(0px 1px 2px rgba(0, 0, 0, 0.3));\n",
              "      fill: #FFFFFF;\n",
              "    }\n",
              "  </style>\n",
              "\n",
              "      <script>\n",
              "        const buttonEl =\n",
              "          document.querySelector('#df-6b92b7e2-fd08-420f-b098-7a9aed5d3597 button.colab-df-convert');\n",
              "        buttonEl.style.display =\n",
              "          google.colab.kernel.accessAllowed ? 'block' : 'none';\n",
              "\n",
              "        async function convertToInteractive(key) {\n",
              "          const element = document.querySelector('#df-6b92b7e2-fd08-420f-b098-7a9aed5d3597');\n",
              "          const dataTable =\n",
              "            await google.colab.kernel.invokeFunction('convertToInteractive',\n",
              "                                                     [key], {});\n",
              "          if (!dataTable) return;\n",
              "\n",
              "          const docLinkHtml = 'Like what you see? Visit the ' +\n",
              "            '<a target=\"_blank\" href=https://colab.research.google.com/notebooks/data_table.ipynb>data table notebook</a>'\n",
              "            + ' to learn more about interactive tables.';\n",
              "          element.innerHTML = '';\n",
              "          dataTable['output_type'] = 'display_data';\n",
              "          await google.colab.output.renderOutput(dataTable, element);\n",
              "          const docLink = document.createElement('div');\n",
              "          docLink.innerHTML = docLinkHtml;\n",
              "          element.appendChild(docLink);\n",
              "        }\n",
              "      </script>\n",
              "    </div>\n",
              "  </div>\n",
              "  "
            ],
            "text/plain": [
              "                                               title  ...              Journal\n",
              "0      MarketWatch: Low Mortgage Rates Will Cost You  ...  Wall Street Journal\n",
              "1      Marketwatch; Low Mortgage Rates Will Cost You  ...  Wall Street Journal\n",
              "2  Green dreams get muddy for car maker --- Norwe...  ...  Wall Street Journal\n",
              "3  Faded Green: A Car Maker's Woes; Start-Up Lure...  ...  Wall Street Journal\n",
              "4  Corporate News: Faded Green: A Car Maker's Woe...  ...  Wall Street Journal\n",
              "\n",
              "[5 rows x 6 columns]"
            ]
          },
          "metadata": {},
          "execution_count": 133
        }
      ],
      "source": [
        "import pandas as pd\n",
        "\n",
        "filename ='news combined - round 2.xlsx'\n",
        "outputfile = 'WithOrign_'+filename\n",
        "\n",
        "df = pd.read_excel('news combined - round 2.xlsx')\n",
        "df.head()"
      ]
    },
    {
      "cell_type": "markdown",
      "source": [
        "# step 2 use sklearn counterVectorizer to convert the text into vector(matrix)\n",
        "\n",
        "hint: use binary=True, so we only count the word appreance as 1 if exist."
      ],
      "metadata": {
        "id": "ztSAMW50W-nO"
      }
    },
    {
      "cell_type": "code",
      "source": [
        "from sklearn.feature_extraction.text import CountVectorizer\n",
        "\n",
        "vectorizer = CountVectorizer(binary=True)\n",
        "vect = vectorizer.fit_transform(df['content'])"
      ],
      "metadata": {
        "id": "gEsac-FZW7Ic"
      },
      "execution_count": null,
      "outputs": []
    },
    {
      "cell_type": "markdown",
      "source": [
        "# step 3 use matric multiplication  "
      ],
      "metadata": {
        "id": "bJjG1XHrXgOt"
      }
    },
    {
      "cell_type": "code",
      "source": [
        "import numpy as np\n",
        "similarity = vect @ vect.T"
      ],
      "metadata": {
        "id": "6ayfh3YSXctP"
      },
      "execution_count": null,
      "outputs": []
    },
    {
      "cell_type": "markdown",
      "source": [
        "#### let a look about the similarity\n",
        "each row and the column present one article, the number means how many words same words are used.\n",
        "\n",
        "note that the diagonal is the articel to itself which should alwarys be the highest score and that equals to how many words in the article."
      ],
      "metadata": {
        "id": "ohzcCuseYiUm"
      }
    },
    {
      "cell_type": "code",
      "source": [
        "similarity.toarray()"
      ],
      "metadata": {
        "colab": {
          "base_uri": "https://localhost:8080/"
        },
        "id": "yUKtnbOaX3rH",
        "outputId": "3694ee73-e1b6-4047-f142-2665bd352170"
      },
      "execution_count": null,
      "outputs": [
        {
          "output_type": "execute_result",
          "data": {
            "text/plain": [
              "array([[371, 360, 121, ...,  96, 135, 131],\n",
              "       [360, 363, 111, ...,  96, 135, 131],\n",
              "       [121, 111, 503, ..., 115, 188, 160],\n",
              "       ...,\n",
              "       [ 96,  96, 115, ..., 507, 194, 172],\n",
              "       [135, 135, 188, ..., 194, 947, 296],\n",
              "       [131, 131, 160, ..., 172, 296, 870]], dtype=int64)"
            ]
          },
          "metadata": {},
          "execution_count": 136
        }
      ]
    },
    {
      "cell_type": "markdown",
      "source": [
        "In the matric about, cell (1,1) = 371 means article 1 has 371 words.\n",
        "\n",
        "cell (1,2) = 360 means articel 2 has 360 common words with articel 1. which means they are 97% similiar\n",
        "\n",
        "lets print them out."
      ],
      "metadata": {
        "id": "0LMhb4LsYeYJ"
      }
    },
    {
      "cell_type": "code",
      "source": [
        "df.loc[0,'content']"
      ],
      "metadata": {
        "colab": {
          "base_uri": "https://localhost:8080/",
          "height": 140
        },
        "id": "t-tiplqiX679",
        "outputId": "99290c1a-e9ae-4232-80c3-41d4b09ca257"
      },
      "execution_count": null,
      "outputs": [
        {
          "output_type": "execute_result",
          "data": {
            "application/vnd.google.colaboratory.intrinsic+json": {
              "type": "string"
            },
            "text/plain": [
              "'Mortgage rates are low, but getting a home loan is going to cost you.\\nNew rules by \\nFreddie Mac\\n and \\nFannie Mae\\n are upping the fees for borrowers with less than perfect credit, those in the mortgage industry say. Other increased costs reflect the uncertainty in the mortgage market as lenders try to reduce their risk and anticipate rates.\\n\"It\\'s an interesting time, in that mortgage rates are historically low,\" says Amy Bohutinsky, vice president of communications for Zillow.com, a real-estate Web site. \"But at the same time, while rates are low, lending standards are still really tight. What that means is that people who qualify for these really good rates ... fall under a strict set of guidelines.\"\\nEven borrowers with decent credit aren\\'t immune to higher fees and mortgage costs. In general, to get the low rates that make the headlines, borrowers also are often paying more points, or prepaid interest, that bring the mortgage rate down.\\nIf you look at where mortgage pricing was a year and a half ago, and where it is now, \"there have been a slew of changes, mostly negative from a borrower\\'s perspective,\" says Rick Allen, vice president of MortgageMarvel.com, a mortgage Web site.\\nThe most recent changes started to show up in lenders\\' rate sheets this year. New risk-based pricing from \\nFreddie Mac\\n and \\nFannie Mae\\n adds fees to mortgages based on a borrower\\'s credit score. In order to avoid the extra fees, borrowers need to have a FICO score of 740 or higher, says Dan \\nGreen, loan\\n officer with Mobium Mortgage in Cincinnati and author of TheMortgageReports.com.\\nThe new rules take effect in April at Fannie and Freddie, but many lenders have already incorporated them.\\nThe new fees, called loan-level price adjustments, have been an unwelcome surprise for some homeowners interested in taking advantage of low rates. \"It has created a different pricing scenario from one consumer to the next,\" Mr. Allen says. \"What you see in the Sunday paper could be perfectly close for one borrower. The guy next door could be 1% higher.\"\\nCharges have also gone up for those who extract equity from their home through a cash-out refinance. Condo financing could also cost more.\\nAccording to \\nFreddie Mac\\n\\'s weekly rate survey, the average rate on a 30-year fixed-rate conforming mortgage was 5.05% in January, and a payment of an average 0.7 point was required to obtain the rate. A year ago, the average rate was 5.76%, but it took just 0.4 point to get it.\\nThere\\'s an inverse relationship between points and rates; the more points you pay, the lower the rate becomes. A point is 1% of the mortgage amount, charged as prepaid interest.\\nIn general, government intervention in the mortgage market is making rates unpredictable, causing lenders to price more conservatively, says Julian Hebron, vice president and mortgage consultant at RPM Mortgage in San Francisco.\\nBefore paying points, consumers need to decide whether the move makes sense for them, or if they\\'d be better off obtaining a mortgage with a higher rate while paying zero points.\\nThe decision hinges on how long the borrower plans on staying in the home, and how long it will take to pay off the points, explains Ethan Ewing, president of Bills.com. The more time a homeowner plans on staying in the home, the more paying points makes sense.\\nMr. Hebron says that paying points gets borrowers a bigger discount these days. \"Historically, one point in fees gets a borrower a rate that\\'s about 0.25% to 0.375% lower. Now, one point gets the rate about 0.625% to 0.875% lower,\" he has noted in an analysis.\\nRecently, Mr. Hebron could get a $417,000, 30-year fixed-rate mortgage at a rate of 5.625%, paying zero points. By paying one point (or $4,170) on the same loan, the rate went down to 4.875%, saving the borrower $261 a month in interest.\\n\"At this monthly savings rate, it takes 16 months to pay back the $4,170 and everything from that point forward is benefit,\" he says. \"Traditional breakeven periods are double this.\"\\nOther fee increases for borrowers today include those on underwriting and processing, which range from $300 to $400 on average. It takes more work and expertise to process a fully documented file than the no-document loans that were popular a couple of years back, and that is reflected in the higher charges, according to Mr. Hebron.\\nThose attempting a refinance also can expect to pay an appraisal fee -- maybe $300 or so -- up front, Mr. Hebron says. Mortgage rate-lock fees are also becoming more common, though it\\'s not impossible to find a firm that will not charge for that service, he adds.\\n\"For title and settlement fees, the fees that we are seeing the largest increases in are the real-estate transfer taxes charged by cities and counties,\" Mr. Ewing says. One tip for borrowers who are refinancing: Using the same title-insurance firm from your last mortgage will likely save money.\\nIn total, mortgage fees could cost you 3% or so of the loan amount, according to HSH Associates, a mortgage-information publisher.\\n---\\nRead more at marketwatch.com\\nLicense this article from Dow Jones Reprint Service[http://www.djreprints.com/link/DJRFactiva.html?FACTIVA=sjco20090223000005]'"
            ]
          },
          "metadata": {},
          "execution_count": 137
        }
      ]
    },
    {
      "cell_type": "code",
      "source": [
        "df.loc[1,'content']"
      ],
      "metadata": {
        "colab": {
          "base_uri": "https://localhost:8080/",
          "height": 158
        },
        "id": "KdvNtqFYZt8v",
        "outputId": "71394d4a-1416-436c-f336-f6047bc06930"
      },
      "execution_count": null,
      "outputs": [
        {
          "output_type": "execute_result",
          "data": {
            "application/vnd.google.colaboratory.intrinsic+json": {
              "type": "string"
            },
            "text/plain": [
              "'Mortgage rates are low, but getting a home loan is going to cost you.\\nNew rules by \\nFreddie Mac\\n and \\nFannie Mae\\n are upping the fees for borrowers with less than perfect credit, those in the mortgage industry say. Other increased costs reflect the uncertainty in the mortgage market as lenders try to reduce their risk and anticipate rates.\\n\"It\\'s an interesting time, in that mortgage rates are historically low,\" says Amy Bohutinsky, vice president of communications for \\nZillow.com\\n, a real-estate Web site. \"But at the same time, while rates are low, lending standards are still really tight. What that means is that people who qualify for these really good rates … fall under a strict set of guidelines.\"\\nEven borrowers with decent credit aren\\'t immune to higher fees and mortgage costs. In general, to get the low rates that make the headlines, borrowers also are often paying more points, or prepaid interest, that bring the mortgage rate down.\\nPricing Changes\\nIf you look at where mortgage pricing was a year and a half ago, and where it is now, \"there have been a slew of changes, mostly negative from a borrower\\'s perspective,\" says Rick Allen, vice president of MortgageMarvel.com, a mortgage Web site.\\nThe most recent changes started to show up in lenders\\' rate sheets this year. New risk-based pricing from \\nFreddie Mac\\n and \\nFannie Mae\\n adds fees to mortgages based on a borrower\\'s credit score. In order to avoid the extra fees, borrowers need to have a FICO score of 740 or higher, says Dan \\nGreen, loan\\n officer with Mobium Mortgage in Cincinnati and author of TheMortgageReports.com.\\nThe new rules take effect in April at Fannie and Freddie, but many lenders have already incorporated them.\\nThe new fees, called loan-level price adjustments, have been an unwelcome surprise for some homeowners interested in taking advantage of low rates. \"It has created a different pricing scenario from one consumer to the next,\" Mr. Allen says. \"What you see in the Sunday paper could be perfectly close for one borrower. The guy next door could be 1% higher.\"\\nCharges have also gone up for those who extract equity from their home through a cash-out refinance. Condo financing could also cost more.\\nAccording to \\nFreddie Mac\\n\\'s weekly rate survey, the average rate on a 30-year fixed-rate conforming mortgage was 5.05% in January, and a payment of an average 0.7 point was required to obtain the rate. A year ago, the average rate was 5.76%, but it took just 0.4 point to get it.\\nThere\\'s an inverse relationship between points and rates; the more points you pay, the lower the rate becomes. A point is 1% of the mortgage amount, charged as prepaid interest.\\nIn general, government intervention in the mortgage market is making rates unpredictable, causing lenders to price more conservatively, says Julian Hebron, vice president and mortgage consultant at RPM Mortgage in San Francisco.\\nWeighing Options\\nBefore paying points, consumers need to decide whether the move makes sense for them, or if they\\'d be better off obtaining a mortgage with a higher rate while paying zero points.\\nThe decision hinges on how long the borrower plans on staying in the home, and how long it will take to pay off the points, explains Ethan Ewing, president of Bills.com. The more time a homeowner plans on staying in the home, the more paying points makes sense.\\nMr. Hebron says that paying points gets borrowers a bigger discount these days. \"Historically, one point in fees gets a borrower a rate that\\'s about 0.25% to 0.375% lower. Now, one point gets the rate about 0.625% to 0.875% lower,\" he has noted in an analysis.\\nRecently, Mr. Hebron could get a $417,000, 30-year fixed-rate mortgage at a rate of 5.625%, paying zero points. By paying one point (or $4,170) on the same loan, the rate went down to 4.875%, saving the borrower $261 a month in interest.\\n\"At this monthly savings rate, it takes 16 months to pay back the $4,170 and everything from that point forward is benefit,\" he says. \"Traditional breakeven periods are double this.\"\\nAdditional Fees\\nOther fee increases for borrowers today include those on underwriting and processing, which range from $300 to $400 on average. It takes more work and expertise to process a fully documented file than the no-document loans that were popular a couple of years back, and that is reflected in the higher charges, according to Mr. Hebron.\\nThose attempting a refinance also can expect to pay an appraisal fee -- maybe $300 or so -- up front, Mr. Hebron says. Mortgage rate-lock fees are also becoming more common, though it\\'s not impossible to find a firm that will not charge for that service, he adds.\\n\"For title and settlement fees, the fees that we are seeing the largest increases in are the real-estate transfer taxes charged by cities and counties,\" Mr. Ewing says. One tip for borrowers who are refinancing: Using the same title-insurance firm from your last mortgage will likely save money.\\nIn total, mortgage fees could cost you 3% or so of the loan amount, according to HSH Associates, a mortgage-information publisher.\\nRead more at marketwatch.com  [http://www.marketwatch.com]'"
            ]
          },
          "metadata": {},
          "execution_count": 138
        }
      ]
    },
    {
      "cell_type": "markdown",
      "source": [
        "we can see they are almost identical"
      ],
      "metadata": {
        "id": "wx8Fa6glZ8h_"
      }
    },
    {
      "cell_type": "markdown",
      "source": [
        "# step 4 calculate the similarity %"
      ],
      "metadata": {
        "id": "28jm-ATZaDmR"
      }
    },
    {
      "cell_type": "code",
      "source": [
        "articleWords = similarity.max(axis=1).toarray().flatten()\n",
        "articleWords"
      ],
      "metadata": {
        "colab": {
          "base_uri": "https://localhost:8080/"
        },
        "id": "kM_G8vPqZ6m1",
        "outputId": "46746ea7-1b4f-4979-8b75-562fe9599e4f"
      },
      "execution_count": null,
      "outputs": [
        {
          "output_type": "execute_result",
          "data": {
            "text/plain": [
              "array([371, 363, 503, ..., 507, 947, 870])"
            ]
          },
          "metadata": {},
          "execution_count": 139
        }
      ]
    },
    {
      "cell_type": "code",
      "source": [
        "similarityPercent = similarity/articleWords\n",
        "similarityPercent"
      ],
      "metadata": {
        "colab": {
          "base_uri": "https://localhost:8080/"
        },
        "id": "T1z9cmgnaKYm",
        "outputId": "f18c3035-cd85-42a3-b2e7-9f5005d72338"
      },
      "execution_count": null,
      "outputs": [
        {
          "output_type": "execute_result",
          "data": {
            "text/plain": [
              "matrix([[1.        , 0.99173554, 0.24055666, ..., 0.18934911, 0.14255544,\n",
              "         0.15057471],\n",
              "        [0.9703504 , 1.        , 0.22067594, ..., 0.18934911, 0.14255544,\n",
              "         0.15057471],\n",
              "        [0.32614555, 0.30578512, 1.        , ..., 0.22682446, 0.19852165,\n",
              "         0.18390805],\n",
              "        ...,\n",
              "        [0.25876011, 0.26446281, 0.22862823, ..., 1.        , 0.20485744,\n",
              "         0.19770115],\n",
              "        [0.3638814 , 0.37190083, 0.37375746, ..., 0.382643  , 1.        ,\n",
              "         0.34022989],\n",
              "        [0.35309973, 0.36088154, 0.31809145, ..., 0.33925049, 0.312566  ,\n",
              "         1.        ]])"
            ]
          },
          "metadata": {},
          "execution_count": 140
        }
      ]
    },
    {
      "cell_type": "markdown",
      "source": [
        "you can see the diagonal values are all 1\n",
        "\n",
        "note that cell (1,2) = 0.9917 and cell (2,1) = 0.97035. the reason for the diffenece is the denominators are different:\n",
        "\n",
        "cell (1,2) = 360/363\n",
        "\n",
        "cell (2,1) = 360/371"
      ],
      "metadata": {
        "id": "r3Z0-Q4LbBc_"
      }
    },
    {
      "cell_type": "markdown",
      "source": [
        "# step 5 add originalID column"
      ],
      "metadata": {
        "id": "LclrIQ7mbzv0"
      }
    },
    {
      "cell_type": "code",
      "source": [
        "threshold = 0.9 # lets say if the % higher ore equal to 90% are duplicates\n"
      ],
      "metadata": {
        "id": "fJmubhU3a23N"
      },
      "execution_count": null,
      "outputs": []
    },
    {
      "cell_type": "markdown",
      "source": [
        "let do a simple test"
      ],
      "metadata": {
        "id": "r4dLUw96ecnd"
      }
    },
    {
      "cell_type": "code",
      "source": [
        "np.where(similarityPercent[0] >= threshold)[-1]"
      ],
      "metadata": {
        "colab": {
          "base_uri": "https://localhost:8080/"
        },
        "id": "-pkX7F7WcWv-",
        "outputId": "7ae38394-2f95-44dd-f76c-13203ba7cd62"
      },
      "execution_count": null,
      "outputs": [
        {
          "output_type": "execute_result",
          "data": {
            "text/plain": [
              "array([0, 1])"
            ]
          },
          "metadata": {},
          "execution_count": 142
        }
      ]
    },
    {
      "cell_type": "markdown",
      "source": [
        "the where shows us the index of the articles that are similar"
      ],
      "metadata": {
        "id": "RQXax2Omelsh"
      }
    },
    {
      "cell_type": "markdown",
      "source": [
        "loop the entire list, for each time find the duplicated the articel and keep the original one."
      ],
      "metadata": {
        "id": "f-GqqspAe0Bf"
      }
    },
    {
      "cell_type": "code",
      "source": [
        "keep = set()\n",
        "replacedict = {}\n",
        "for i,line in enumerate(similarityPercent):\n",
        "  dupeCluster = np.where(line>threshold)[-1]\n",
        "  if set(dupeCluster).intersection(set(keep)):\n",
        "    replacedict[i] = list(set(dupeCluster).intersection(set(keep)))[0]\n",
        "  else:\n",
        "    keep.add(i)\n",
        "    replacedict[i] = None\n"
      ],
      "metadata": {
        "id": "DAQOqcCJkppq"
      },
      "execution_count": null,
      "outputs": []
    },
    {
      "cell_type": "code",
      "source": [
        "replacedf = pd.DataFrame(replacedict.items(), columns=['id','originid']).set_index('id')"
      ],
      "metadata": {
        "id": "CLI95XcBdOSm"
      },
      "execution_count": null,
      "outputs": []
    },
    {
      "cell_type": "code",
      "source": [
        "df = df.merge(replacedf, left_index=True, right_index=True,how='left').reset_index().rename(columns={df.index.name:'id'})"
      ],
      "metadata": {
        "id": "jgR6cycVj3Tb"
      },
      "execution_count": null,
      "outputs": []
    },
    {
      "cell_type": "code",
      "source": [
        "df.to_excel(outputfile, index=False)"
      ],
      "metadata": {
        "id": "0k26V8dqeBZp"
      },
      "execution_count": null,
      "outputs": []
    },
    {
      "cell_type": "code",
      "source": [
        "from google.colab import files\n",
        "files.download(outputfile)"
      ],
      "metadata": {
        "colab": {
          "base_uri": "https://localhost:8080/",
          "height": 17
        },
        "id": "LH7lTCnUkQDp",
        "outputId": "44710c18-b477-4cb0-c625-3296bb4081a8"
      },
      "execution_count": null,
      "outputs": [
        {
          "output_type": "display_data",
          "data": {
            "application/javascript": [
              "\n",
              "    async function download(id, filename, size) {\n",
              "      if (!google.colab.kernel.accessAllowed) {\n",
              "        return;\n",
              "      }\n",
              "      const div = document.createElement('div');\n",
              "      const label = document.createElement('label');\n",
              "      label.textContent = `Downloading \"${filename}\": `;\n",
              "      div.appendChild(label);\n",
              "      const progress = document.createElement('progress');\n",
              "      progress.max = size;\n",
              "      div.appendChild(progress);\n",
              "      document.body.appendChild(div);\n",
              "\n",
              "      const buffers = [];\n",
              "      let downloaded = 0;\n",
              "\n",
              "      const channel = await google.colab.kernel.comms.open(id);\n",
              "      // Send a message to notify the kernel that we're ready.\n",
              "      channel.send({})\n",
              "\n",
              "      for await (const message of channel.messages) {\n",
              "        // Send a message to notify the kernel that we're ready.\n",
              "        channel.send({})\n",
              "        if (message.buffers) {\n",
              "          for (const buffer of message.buffers) {\n",
              "            buffers.push(buffer);\n",
              "            downloaded += buffer.byteLength;\n",
              "            progress.value = downloaded;\n",
              "          }\n",
              "        }\n",
              "      }\n",
              "      const blob = new Blob(buffers, {type: 'application/binary'});\n",
              "      const a = document.createElement('a');\n",
              "      a.href = window.URL.createObjectURL(blob);\n",
              "      a.download = filename;\n",
              "      div.appendChild(a);\n",
              "      a.click();\n",
              "      div.remove();\n",
              "    }\n",
              "  "
            ],
            "text/plain": [
              "<IPython.core.display.Javascript object>"
            ]
          },
          "metadata": {}
        },
        {
          "output_type": "display_data",
          "data": {
            "application/javascript": [
              "download(\"download_5ad7cd26-5a79-4c98-801b-174e01552875\", \"WithOrign_news combined - round 2.xlsx\", 3946305)"
            ],
            "text/plain": [
              "<IPython.core.display.Javascript object>"
            ]
          },
          "metadata": {}
        }
      ]
    }
  ],
  "metadata": {
    "colab": {
      "name": "findDuplicatedAricle",
      "provenance": [],
      "include_colab_link": true
    },
    "kernelspec": {
      "display_name": "Python 3",
      "name": "python3"
    }
  },
  "nbformat": 4,
  "nbformat_minor": 0
}